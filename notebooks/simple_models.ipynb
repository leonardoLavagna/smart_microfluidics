{
  "nbformat": 4,
  "nbformat_minor": 0,
  "metadata": {
    "colab": {
      "provenance": []
    },
    "kernelspec": {
      "name": "python3",
      "display_name": "Python 3"
    },
    "language_info": {
      "name": "python"
    }
  },
  "cells": [
    {
      "cell_type": "markdown",
      "source": [
        "#notebooks.simple_models"
      ],
      "metadata": {
        "id": "YDBmCb_cOdFz"
      }
    },
    {
      "cell_type": "markdown",
      "source": [
        "## Setup"
      ],
      "metadata": {
        "id": "Pdbb9F3ImItH"
      }
    },
    {
      "cell_type": "code",
      "source": [
        "import pandas as pd\n",
        "import pickle\n",
        "import numpy as np\n",
        "from sklearn.model_selection import train_test_split\n",
        "from sklearn.ensemble import RandomForestRegressor\n",
        "from xgboost import XGBRegressor\n",
        "from sklearn.multioutput import MultiOutputRegressor\n",
        "from sklearn.preprocessing import OneHotEncoder\n",
        "from sklearn.compose import ColumnTransformer\n",
        "from sklearn.pipeline import Pipeline\n",
        "from sklearn.metrics import mean_squared_error, r2_score, mean_absolute_error"
      ],
      "metadata": {
        "id": "upTpYixWVOPa"
      },
      "execution_count": 5,
      "outputs": []
    },
    {
      "cell_type": "markdown",
      "source": [
        "## Data"
      ],
      "metadata": {
        "id": "7ZqQTYnKmNSA"
      }
    },
    {
      "cell_type": "code",
      "source": [
        "file_path = \"smart_microfluidics/data/cleaned_data.csv\"\n",
        "data = pd.read_csv(file_path, encoding=\"latin1\")"
      ],
      "metadata": {
        "id": "x8hc0_fRmO5-"
      },
      "execution_count": 6,
      "outputs": []
    },
    {
      "cell_type": "code",
      "source": [
        "file_path = \"smart_microfluidics/data/cleaned_data.csv\"\n",
        "yes_data = data[data[\"OUTPUT\"] == 1]"
      ],
      "metadata": {
        "id": "tPHEantgmptL"
      },
      "execution_count": 7,
      "outputs": []
    },
    {
      "cell_type": "markdown",
      "source": [
        "## Random forest regressor"
      ],
      "metadata": {
        "id": "2oFQTTf-YqFR"
      }
    },
    {
      "cell_type": "code",
      "execution_count": 9,
      "metadata": {
        "id": "qzSh6EQ3T_GK",
        "colab": {
          "base_uri": "https://localhost:8080/"
        },
        "outputId": "2adeadfd-1eda-4cfe-c5a6-edf65e25d734"
      },
      "outputs": [
        {
          "output_type": "stream",
          "name": "stdout",
          "text": [
            "R-squared: 0.36157896454981364\n",
            "Mean Squared Error: 1958.890858993266\n",
            "Mean Absolute Error: 15.086741645521377\n"
          ]
        }
      ],
      "source": [
        "features = yes_data.drop(columns=[\"ID\", \"SIZE\", \"PDI\", \"OUTPUT\"])\n",
        "targets = yes_data[[\"SIZE\", \"PDI\"]]\n",
        "categorical_columns = features.select_dtypes(include=[\"object\"]).columns\n",
        "numerical_columns = features.select_dtypes(include=[\"float64\", \"int64\"]).columns\n",
        "\n",
        "preprocessor = ColumnTransformer(transformers=[(\"cat\", OneHotEncoder(drop=\"first\"), categorical_columns),],remainder=\"passthrough\")\n",
        "X_train, X_test, y_train, y_test = train_test_split(features, targets, test_size=0.2, random_state=42)\n",
        "model = Pipeline(steps=[(\"preprocessor\", preprocessor), (\"regressor\", RandomForestRegressor(n_estimators=100, random_state=42))])\n",
        "model.fit(X_train, y_train)\n",
        "\n",
        "y_pred = model.predict(X_test)\n",
        "r2 = r2_score(y_test, y_pred)\n",
        "mse = mean_squared_error(y_test, y_pred)\n",
        "mae = mean_absolute_error(y_test, y_pred)\n",
        "print(f\"R-squared: {r2}\")\n",
        "print(f\"Mean Squared Error: {mse}\")\n",
        "print(f\"Mean Absolute Error: {mae}\")"
      ]
    },
    {
      "cell_type": "code",
      "source": [
        "pickle_file_path = \"smart_microfluidics/models/random_forest_model.pkl\"\n",
        "with open(pickle_file_path, \"wb\") as file:\n",
        "    pickle.dump(model, file)\n",
        "\n",
        "print(f\"Model saved to {pickle_file_path}\")"
      ],
      "metadata": {
        "id": "4zxnPrcmQfhm"
      },
      "execution_count": null,
      "outputs": []
    },
    {
      "cell_type": "markdown",
      "source": [
        "### Example of usage"
      ],
      "metadata": {
        "id": "OH5Qoo30QgX2"
      }
    },
    {
      "cell_type": "code",
      "source": [
        "with open(\"smart_microfluidics/models/random_forest_model.pkl\", \"rb\") as file:\n",
        "    loaded_model = pickle.load(file)\n",
        "input_data = pd.DataFrame({\n",
        "    \"ML\": [\"HSPC\"],\n",
        "    \"CHIP\": [\"Micromixer\"],\n",
        "    \"TLP\": [5.0],\n",
        "    \"ESM\": [0.0],\n",
        "    \"HSPC\": [3.75],\n",
        "    \"CHOL\": [0.0],\n",
        "    \"PEG\": [1.25],\n",
        "    \"TFR \": [1.0],\n",
        "    \"FRR\": [3.0],\n",
        "    \"BUFFER\": [\"PBS\"],\n",
        "    \"OUTPUT\": [1]\n",
        "})\n",
        "\n",
        "predictions = loaded_model.predict(input_data)\n",
        "print(\"Predicted SIZE and PDI:\", predictions)\n"
      ],
      "metadata": {
        "colab": {
          "base_uri": "https://localhost:8080/"
        },
        "id": "t49eMaUAVWz7",
        "outputId": "b2500df0-c07a-440a-82a5-53a3a4ca778f"
      },
      "execution_count": 10,
      "outputs": [
        {
          "output_type": "stream",
          "name": "stdout",
          "text": [
            "Predicted SIZE and PDI: [[115.64875      0.34697875]]\n"
          ]
        }
      ]
    },
    {
      "cell_type": "markdown",
      "source": [
        "## XGBoost"
      ],
      "metadata": {
        "id": "aI4vX9Fvaz70"
      }
    },
    {
      "cell_type": "code",
      "source": [
        "features = yes_data.drop(columns=[\"ID\", \"SIZE\", \"PDI\"])\n",
        "targets = yes_data[[\"SIZE\", \"PDI\"]]\n",
        "categorical_columns = features.select_dtypes(include=[\"object\"]).columns\n",
        "numerical_columns = features.select_dtypes(include=[\"float64\", \"int64\"]).columns\n",
        "\n",
        "preprocessor = ColumnTransformer(transformers=[(\"cat\", OneHotEncoder(drop=\"first\"), categorical_columns),],remainder=\"passthrough\")\n",
        "X_train, X_test, y_train, y_test = train_test_split(features, targets, test_size=0.2, random_state=42)\n",
        "xgboost_model = Pipeline(steps=[(\"preprocessor\", preprocessor), (\"regressor\", MultiOutputRegressor(XGBRegressor(n_estimators=100, random_state=42)))])\n",
        "\n",
        "xgboost_model.fit(X_train, y_train)\n",
        "y_pred = xgboost_model.predict(X_test)\n",
        "r2 = r2_score(y_test, y_pred)\n",
        "mse = mean_squared_error(y_test, y_pred)\n",
        "mae = mean_absolute_error(y_test, y_pred)\n",
        "print(f\"R-squared: {r2}\")\n",
        "print(f\"Mean Squared Error: {mse}\")\n",
        "print(f\"Mean Absolute Error: {mae}\")"
      ],
      "metadata": {
        "id": "fOKOoljCazu6",
        "colab": {
          "base_uri": "https://localhost:8080/"
        },
        "outputId": "6092c84c-ecca-4e48-eaf4-d100ad751e61"
      },
      "execution_count": 11,
      "outputs": [
        {
          "output_type": "stream",
          "name": "stdout",
          "text": [
            "R-squared: 0.32854801416397095\n",
            "Mean Squared Error: 1967.81201171875\n",
            "Mean Absolute Error: 14.646432876586914\n"
          ]
        }
      ]
    },
    {
      "cell_type": "markdown",
      "source": [
        "## Esample of usage"
      ],
      "metadata": {
        "id": "VDLIvy1VRCco"
      }
    },
    {
      "cell_type": "code",
      "source": [
        "with open(\"smart_microfluidics/models/xgboost_model.pkl\", \"rb\") as file:\n",
        "    loaded_model = pickle.load(file)\n",
        "input_data = pd.DataFrame({\n",
        "    \"ML\": [\"HSPC\"],\n",
        "    \"CHIP\": [\"Micromixer\"],\n",
        "    \"TLP\": [5.0],\n",
        "    \"ESM\": [0.0],\n",
        "    \"HSPC\": [3.75],\n",
        "    \"CHOL\": [0.0],\n",
        "    \"PEG\": [1.25],\n",
        "    \"TFR \": [1.0],\n",
        "    \"FRR\": [3.0],\n",
        "    \"BUFFER\": [\"PBS\"],\n",
        "    \"OUTPUT\": [1]\n",
        "})\n",
        "\n",
        "predictions = loaded_model.predict(input_data)\n",
        "print(\"Predicted SIZE and PDI:\", predictions)\n"
      ],
      "metadata": {
        "colab": {
          "base_uri": "https://localhost:8080/"
        },
        "id": "bowgsKn1mUsC",
        "outputId": "064a8902-54ef-4202-dae6-0e63d8a57780"
      },
      "execution_count": 12,
      "outputs": [
        {
          "output_type": "stream",
          "name": "stdout",
          "text": [
            "Predicted SIZE and PDI: [[118.00421      0.33404157]]\n"
          ]
        }
      ]
    },
    {
      "cell_type": "markdown",
      "source": [
        "## Inverse problem"
      ],
      "metadata": {
        "id": "RcLRAixHdrxO"
      }
    },
    {
      "cell_type": "code",
      "source": [
        "targets = yes_data[[\"SIZE\", \"PDI\"]]\n",
        "numerical_columns = [\"ESM\", \"HSPC\", \"CHOL\", \"PEG\", \"TFR \", \"FRR\"]\n",
        "features = yes_data[numerical_columns]\n",
        "X_train, X_test, y_train, y_test = train_test_split(targets, features, test_size=0.2, random_state=42)\n",
        "\n",
        "inverse_model = MultiOutputRegressor(XGBRegressor(n_estimators=100, random_state=42))\n",
        "inverse_model.fit(X_train, y_train)\n",
        "\n",
        "inverse_model.fit(X_train, y_train)\n",
        "y_pred = inverse_model.predict(X_test)\n",
        "r2 = r2_score(y_test, y_pred)\n",
        "mse = mean_squared_error(y_test, y_pred)\n",
        "mae = mean_absolute_error(y_test, y_pred)\n",
        "print(f\"R-squared: {r2}\")\n",
        "print(f\"Mean Squared Error: {mse}\")\n",
        "print(f\"Mean Absolute Error: {mae}\")"
      ],
      "metadata": {
        "id": "M4llf4t9bTVb",
        "colab": {
          "base_uri": "https://localhost:8080/"
        },
        "outputId": "44c95250-98bf-4279-843e-3af70437ce8f"
      },
      "execution_count": 13,
      "outputs": [
        {
          "output_type": "stream",
          "name": "stdout",
          "text": [
            "R-squared: 0.11767681688070297\n",
            "Mean Squared Error: 89.26007080078125\n",
            "Mean Absolute Error: 3.7459394931793213\n"
          ]
        }
      ]
    },
    {
      "cell_type": "code",
      "source": [
        "pickle_file_path = \"smart_microfluidics/models/inverse_xgboost_model.pkl\"\n",
        "with open(pickle_file_path, \"wb\") as file:\n",
        "    pickle.dump(inverse_model, file)\n",
        "\n",
        "print(f\"Inverse model saved to {pickle_file_path}\")"
      ],
      "metadata": {
        "id": "uTzvLQpdQ_gV"
      },
      "execution_count": null,
      "outputs": []
    },
    {
      "cell_type": "markdown",
      "source": [
        "## Example of usage"
      ],
      "metadata": {
        "id": "MtzqHJWlRACt"
      }
    },
    {
      "cell_type": "code",
      "source": [
        "with open(\"smart_microfluidics/models/inverse_xgboost_model.pkl\", \"rb\") as file:\n",
        "    inverse_model = pickle.load(file)\n",
        "input_data = pd.DataFrame({\"SIZE\": [118.0], \"PDI\": [0.33]})\n",
        "\n",
        "predictions = inverse_model.predict(input_data)\n",
        "predictions = np.abs(predictions)\n",
        "predictions = np.where(predictions < 0.5, 0, predictions)\n",
        "print(\"Predicted values for ESM, HSPC, CHOL, PEG, TFR, and FRR:\", predictions)"
      ],
      "metadata": {
        "colab": {
          "base_uri": "https://localhost:8080/"
        },
        "id": "UrwGWQ-tojAy",
        "outputId": "89f3677f-be94-4a05-de18-efc44b2d1a80"
      },
      "execution_count": 14,
      "outputs": [
        {
          "output_type": "stream",
          "name": "stdout",
          "text": [
            "Predicted values for ESM, HSPC, CHOL, PEG, TFR, and FRR: [[0.        3.7620564 0.        1.2572409 0.9628239 3.0061107]]\n"
          ]
        }
      ]
    }
  ]
}