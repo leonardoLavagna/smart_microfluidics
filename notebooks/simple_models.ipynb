{
  "nbformat": 4,
  "nbformat_minor": 0,
  "metadata": {
    "colab": {
      "provenance": []
    },
    "kernelspec": {
      "name": "python3",
      "display_name": "Python 3"
    },
    "language_info": {
      "name": "python"
    }
  },
  "cells": [
    {
      "cell_type": "markdown",
      "source": [
        "#notebooks.simple_models"
      ],
      "metadata": {
        "id": "YDBmCb_cOdFz"
      }
    },
    {
      "cell_type": "markdown",
      "source": [
        "## Setup"
      ],
      "metadata": {
        "id": "Pdbb9F3ImItH"
      }
    },
    {
      "cell_type": "code",
      "source": [
        "import pandas as pd\n",
        "from sklearn.model_selection import train_test_split\n",
        "from sklearn.ensemble import RandomForestRegressor\n",
        "from xgboost import XGBRegressor\n",
        "from sklearn.multioutput import MultiOutputRegressor\n",
        "from sklearn.preprocessing import OneHotEncoder\n",
        "from sklearn.compose import ColumnTransformer\n",
        "from sklearn.pipeline import Pipeline\n",
        "import pickle\n",
        "import numpy as np"
      ],
      "metadata": {
        "id": "upTpYixWVOPa"
      },
      "execution_count": 1,
      "outputs": []
    },
    {
      "cell_type": "markdown",
      "source": [
        "## Get Data"
      ],
      "metadata": {
        "id": "7ZqQTYnKmNSA"
      }
    },
    {
      "cell_type": "code",
      "source": [
        "file_path = \"smart_microfluidics/data/cleaned_data.csv\"\n",
        "data = pd.read_csv(file_path, encoding=\"latin1\")"
      ],
      "metadata": {
        "id": "x8hc0_fRmO5-"
      },
      "execution_count": 2,
      "outputs": []
    },
    {
      "cell_type": "markdown",
      "source": [
        "## Binary classifier for output"
      ],
      "metadata": {
        "id": "RCu98f_bmqFQ"
      }
    },
    {
      "cell_type": "code",
      "source": [
        "file_path = \"smart_microfluidics/data/cleaned_data.csv\"\n",
        "yes_data = data[data[\"OUTPUT\"] == 1]"
      ],
      "metadata": {
        "id": "tPHEantgmptL"
      },
      "execution_count": 3,
      "outputs": []
    },
    {
      "cell_type": "markdown",
      "source": [
        "## Random forest regressor"
      ],
      "metadata": {
        "id": "2oFQTTf-YqFR"
      }
    },
    {
      "cell_type": "code",
      "execution_count": 4,
      "metadata": {
        "colab": {
          "base_uri": "https://localhost:8080/"
        },
        "id": "qzSh6EQ3T_GK",
        "outputId": "f2009f01-abc7-4926-cc89-d0af7273d2e9"
      },
      "outputs": [
        {
          "output_type": "stream",
          "name": "stdout",
          "text": [
            "Model saved to random_forest_model.pkl\n"
          ]
        }
      ],
      "source": [
        "features = yes_data.drop(columns=[\"ID\", \"SIZE\", \"PDI\", \"OUTPUT\"])\n",
        "targets = yes_data[[\"SIZE\", \"PDI\"]]\n",
        "categorical_columns = features.select_dtypes(include=[\"object\"]).columns\n",
        "numerical_columns = features.select_dtypes(include=[\"float64\", \"int64\"]).columns\n",
        "\n",
        "preprocessor = ColumnTransformer(transformers=[(\"cat\", OneHotEncoder(drop=\"first\"), categorical_columns),],remainder=\"passthrough\")\n",
        "X_train, X_test, y_train, y_test = train_test_split(features, targets, test_size=0.2, random_state=42)\n",
        "model = Pipeline(steps=[(\"preprocessor\", preprocessor), (\"regressor\", RandomForestRegressor(n_estimators=100, random_state=42))])\n",
        "model.fit(X_train, y_train)\n",
        "pickle_file_path = \"random_forest_model.pkl\"\n",
        "with open(pickle_file_path, \"wb\") as file:\n",
        "    pickle.dump(model, file)\n",
        "\n",
        "print(f\"Model saved to {pickle_file_path}\")"
      ]
    },
    {
      "cell_type": "code",
      "source": [
        "with open(\"random_forest_model.pkl\", \"rb\") as file:\n",
        "    loaded_model = pickle.load(file)\n",
        "input_data = pd.DataFrame({\n",
        "    \"ML\": [\"HSPC\"],\n",
        "    \"CHIP\": [\"Micromixer\"],\n",
        "    \"TLP\": [5.0],\n",
        "    \"ESM\": [0.0],\n",
        "    \"HSPC\": [3.75],\n",
        "    \"CHOL\": [0.0],\n",
        "    \"PEG\": [1.25],\n",
        "    \"TFR \": [1.0],\n",
        "    \"FRR\": [3.0],\n",
        "    \"BUFFER\": [\"PBS\"],\n",
        "    \"OUTPUT\": [1]\n",
        "})\n",
        "\n",
        "predictions = loaded_model.predict(input_data)\n",
        "print(\"Predicted SIZE and PDI:\", predictions)\n"
      ],
      "metadata": {
        "colab": {
          "base_uri": "https://localhost:8080/"
        },
        "id": "t49eMaUAVWz7",
        "outputId": "ce7ee127-275d-489f-cfbe-e1a05b49ef82"
      },
      "execution_count": 5,
      "outputs": [
        {
          "output_type": "stream",
          "name": "stdout",
          "text": [
            "Predicted SIZE and PDI: [[115.64875      0.34697875]]\n"
          ]
        }
      ]
    },
    {
      "cell_type": "markdown",
      "source": [
        "## XGBoost"
      ],
      "metadata": {
        "id": "aI4vX9Fvaz70"
      }
    },
    {
      "cell_type": "code",
      "source": [
        "features = yes_data.drop(columns=[\"ID\", \"SIZE\", \"PDI\"])\n",
        "targets = yes_data[[\"SIZE\", \"PDI\"]]\n",
        "categorical_columns = features.select_dtypes(include=[\"object\"]).columns\n",
        "numerical_columns = features.select_dtypes(include=[\"float64\", \"int64\"]).columns\n",
        "\n",
        "preprocessor = ColumnTransformer(transformers=[(\"cat\", OneHotEncoder(drop=\"first\"), categorical_columns),],remainder=\"passthrough\")\n",
        "X_train, X_test, y_train, y_test = train_test_split(features, targets, test_size=0.2, random_state=42)\n",
        "xgboost_model = Pipeline(steps=[(\"preprocessor\", preprocessor), (\"regressor\", MultiOutputRegressor(XGBRegressor(n_estimators=100, random_state=42)))])\n",
        "\n",
        "xgboost_model.fit(X_train, y_train)\n",
        "pickle_file_path = \"xgboost_model.pkl\"\n",
        "with open(pickle_file_path, \"wb\") as file:\n",
        "    pickle.dump(xgboost_model, file)\n",
        "print(f\"Model saved to {pickle_file_path}\")"
      ],
      "metadata": {
        "colab": {
          "base_uri": "https://localhost:8080/"
        },
        "id": "fOKOoljCazu6",
        "outputId": "b8ce8924-6578-49ac-886f-d277265197b5"
      },
      "execution_count": 6,
      "outputs": [
        {
          "output_type": "stream",
          "name": "stdout",
          "text": [
            "Model saved to xgboost_model.pkl\n"
          ]
        }
      ]
    },
    {
      "cell_type": "code",
      "source": [
        "with open(\"xgboost_model.pkl\", \"rb\") as file:\n",
        "    loaded_model = pickle.load(file)\n",
        "input_data = pd.DataFrame({\n",
        "    \"ML\": [\"HSPC\"],\n",
        "    \"CHIP\": [\"Micromixer\"],\n",
        "    \"TLP\": [5.0],\n",
        "    \"ESM\": [0.0],\n",
        "    \"HSPC\": [3.75],\n",
        "    \"CHOL\": [0.0],\n",
        "    \"PEG\": [1.25],\n",
        "    \"TFR \": [1.0],\n",
        "    \"FRR\": [3.0],\n",
        "    \"BUFFER\": [\"PBS\"],\n",
        "    \"OUTPUT\": [1]\n",
        "})\n",
        "\n",
        "predictions = loaded_model.predict(input_data)\n",
        "print(\"Predicted SIZE and PDI:\", predictions)\n"
      ],
      "metadata": {
        "colab": {
          "base_uri": "https://localhost:8080/"
        },
        "id": "bowgsKn1mUsC",
        "outputId": "cdd56630-1551-4a02-fcb4-1e50cb5dc364"
      },
      "execution_count": 7,
      "outputs": [
        {
          "output_type": "stream",
          "name": "stdout",
          "text": [
            "Predicted SIZE and PDI: [[118.00421      0.33404157]]\n"
          ]
        }
      ]
    },
    {
      "cell_type": "markdown",
      "source": [
        "## Inverse problem"
      ],
      "metadata": {
        "id": "RcLRAixHdrxO"
      }
    },
    {
      "cell_type": "code",
      "source": [
        "targets = yes_data[[\"SIZE\", \"PDI\"]]\n",
        "numerical_columns = [\"ESM\", \"HSPC\", \"CHOL\", \"PEG\", \"TFR \", \"FRR\"]\n",
        "features = yes_data[numerical_columns]\n",
        "X_train, X_test, y_train, y_test = train_test_split(targets, features, test_size=0.2, random_state=42)\n",
        "\n",
        "inverse_model = MultiOutputRegressor(XGBRegressor(n_estimators=100, random_state=42))\n",
        "inverse_model.fit(X_train, y_train)\n",
        "\n",
        "pickle_file_path = \"inverse_xgboost_model.pkl\"\n",
        "with open(pickle_file_path, \"wb\") as file:\n",
        "    pickle.dump(inverse_model, file)\n",
        "\n",
        "print(f\"Inverse model saved to {pickle_file_path}\")\n"
      ],
      "metadata": {
        "colab": {
          "base_uri": "https://localhost:8080/"
        },
        "id": "M4llf4t9bTVb",
        "outputId": "ef96523f-2d1e-42be-b70c-a701c20209e2"
      },
      "execution_count": 8,
      "outputs": [
        {
          "output_type": "stream",
          "name": "stdout",
          "text": [
            "Inverse model saved to inverse_xgboost_model.pkl\n"
          ]
        }
      ]
    },
    {
      "cell_type": "code",
      "source": [
        "with open(\"inverse_xgboost_model.pkl\", \"rb\") as file:\n",
        "    inverse_model = pickle.load(file)\n",
        "input_data = pd.DataFrame({\"SIZE\": [118.0], \"PDI\": [0.33]})\n",
        "\n",
        "predictions = inverse_model.predict(input_data)\n",
        "predictions = np.abs(predictions)\n",
        "predictions = np.where(predictions < 0.5, 0, predictions)\n",
        "print(\"Predicted values for ESM, HSPC, CHOL, PEG, TFR, and FRR:\", predictions)"
      ],
      "metadata": {
        "colab": {
          "base_uri": "https://localhost:8080/"
        },
        "id": "UrwGWQ-tojAy",
        "outputId": "37a0b66f-8339-4d28-be9c-e6a4d7330952"
      },
      "execution_count": 9,
      "outputs": [
        {
          "output_type": "stream",
          "name": "stdout",
          "text": [
            "Predicted values for ESM, HSPC, CHOL, PEG, TFR, and FRR: [[0.        3.7620564 0.        1.2572409 0.9628239 3.0061107]]\n"
          ]
        }
      ]
    }
  ]
}