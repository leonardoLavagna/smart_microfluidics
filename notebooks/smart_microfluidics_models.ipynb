{
  "nbformat": 4,
  "nbformat_minor": 0,
  "metadata": {
    "colab": {
      "provenance": []
    },
    "kernelspec": {
      "name": "python3",
      "display_name": "Python 3"
    },
    "language_info": {
      "name": "python"
    }
  },
  "cells": [
    {
      "cell_type": "markdown",
      "source": [
        "# notebooks.smart_microfluidics_models"
      ],
      "metadata": {
        "id": "f31aaAvcYhfi"
      }
    },
    {
      "cell_type": "code",
      "source": [
        "import pandas as pd\n",
        "from sklearn.model_selection import train_test_split\n",
        "from sklearn.ensemble import RandomForestRegressor\n",
        "from xgboost import XGBRegressor\n",
        "from sklearn.multioutput import MultiOutputRegressor\n",
        "from sklearn.preprocessing import OneHotEncoder\n",
        "from sklearn.compose import ColumnTransformer\n",
        "from sklearn.pipeline import Pipeline\n",
        "import pickle"
      ],
      "metadata": {
        "id": "upTpYixWVOPa"
      },
      "execution_count": 8,
      "outputs": []
    },
    {
      "cell_type": "code",
      "source": [
        "file_path = \"data.csv\"\n",
        "data = pd.read_csv(file_path, encoding=\"latin1\")"
      ],
      "metadata": {
        "id": "P3GlnhLqYo31"
      },
      "execution_count": null,
      "outputs": []
    },
    {
      "cell_type": "markdown",
      "source": [
        "## Random forest regressor"
      ],
      "metadata": {
        "id": "2oFQTTf-YqFR"
      }
    },
    {
      "cell_type": "code",
      "execution_count": 3,
      "metadata": {
        "colab": {
          "base_uri": "https://localhost:8080/"
        },
        "id": "qzSh6EQ3T_GK",
        "outputId": "91188247-5509-407a-a2d8-e92bcaeffb80"
      },
      "outputs": [
        {
          "output_type": "stream",
          "name": "stdout",
          "text": [
            "Model saved to random_forest_model.pkl\n"
          ]
        }
      ],
      "source": [
        "features = data.drop(columns=[\"ID\", \"SIZE\", \"PDI\"])\n",
        "targets = data[[\"SIZE\", \"PDI\"]]\n",
        "categorical_columns = features.select_dtypes(include=[\"object\"]).columns\n",
        "numerical_columns = features.select_dtypes(include=[\"float64\", \"int64\"]).columns\n",
        "\n",
        "preprocessor = ColumnTransformer(transformers=[(\"cat\", OneHotEncoder(drop=\"first\"), categorical_columns),],remainder=\"passthrough\")\n",
        "X_train, X_test, y_train, y_test = train_test_split(features, targets, test_size=0.2, random_state=42)\n",
        "model = Pipeline(steps=[(\"preprocessor\", preprocessor), (\"regressor\", RandomForestRegressor(n_estimators=100, random_state=42))])\n",
        "model.fit(X_train, y_train)\n",
        "pickle_file_path = \"random_forest_model.pkl\"\n",
        "with open(pickle_file_path, \"wb\") as file:\n",
        "    pickle.dump(model, file)\n",
        "\n",
        "print(f\"Model saved to {pickle_file_path}\")"
      ]
    },
    {
      "cell_type": "code",
      "source": [
        "with open(\"random_forest_model.pkl\", \"rb\") as file:\n",
        "    loaded_model = pickle.load(file)\n",
        "input_data = pd.DataFrame({\n",
        "    \"ML\": [\"HSPC\"],\n",
        "    \"CHIP\": [\"Micromixer\"],\n",
        "    \"TLP\": [5.0],\n",
        "    \"ESM\": [0.0],\n",
        "    \"HSPC\": [3.75],\n",
        "    \"CHOL\": [0.0],\n",
        "    \"PEG\": [1.25],\n",
        "    \"TFR \": [1.0],\n",
        "    \"FRR\": [3.0],\n",
        "    \"FR-O\": [0.25],\n",
        "    \"FR-W\": [0.75],\n",
        "    \"BUFFER\": [\"PBS\"],\n",
        "    \"OUTPUT\": [\"YES\"]\n",
        "})\n",
        "\n",
        "predictions = loaded_model.predict(input_data)\n",
        "print(\"Predicted SIZE and PDI:\", predictions)\n"
      ],
      "metadata": {
        "colab": {
          "base_uri": "https://localhost:8080/"
        },
        "id": "t49eMaUAVWz7",
        "outputId": "c42bda00-fee6-4559-d9d4-b317a61696b1"
      },
      "execution_count": 7,
      "outputs": [
        {
          "output_type": "stream",
          "name": "stdout",
          "text": [
            "Predicted SIZE and PDI: [[121.99666667   0.3471169 ]]\n"
          ]
        }
      ]
    },
    {
      "cell_type": "markdown",
      "source": [
        "## XGBoost"
      ],
      "metadata": {
        "id": "aI4vX9Fvaz70"
      }
    },
    {
      "cell_type": "code",
      "source": [
        "features = data.drop(columns=[\"ID\", \"SIZE\", \"PDI\"])\n",
        "targets = data[[\"SIZE\", \"PDI\"]]\n",
        "categorical_columns = features.select_dtypes(include=[\"object\"]).columns\n",
        "numerical_columns = features.select_dtypes(include=[\"float64\", \"int64\"]).columns\n",
        "\n",
        "preprocessor = ColumnTransformer(transformers=[(\"cat\", OneHotEncoder(drop=\"first\"), categorical_columns),],remainder=\"passthrough\")\n",
        "X_train, X_test, y_train, y_test = train_test_split(features, targets, test_size=0.2, random_state=42)\n",
        "xgboost_model = Pipeline(steps=[(\"preprocessor\", preprocessor), (\"regressor\", MultiOutputRegressor(XGBRegressor(n_estimators=100, random_state=42)))])\n",
        "\n",
        "xgboost_model.fit(X_train, y_train)\n",
        "pickle_file_path = \"xgboost_model.pkl\"\n",
        "with open(pickle_file_path, \"wb\") as file:\n",
        "    pickle.dump(xgboost_model, file)\n",
        "print(f\"Model saved to {pickle_file_path}\")"
      ],
      "metadata": {
        "colab": {
          "base_uri": "https://localhost:8080/"
        },
        "id": "fOKOoljCazu6",
        "outputId": "a6fbee44-c90c-4a11-dcc8-a15add19f64a"
      },
      "execution_count": 9,
      "outputs": [
        {
          "output_type": "stream",
          "name": "stdout",
          "text": [
            "Model saved to xgboost_model.pkl\n"
          ]
        }
      ]
    },
    {
      "cell_type": "markdown",
      "source": [
        "## Inverse problem"
      ],
      "metadata": {
        "id": "RcLRAixHdrxO"
      }
    },
    {
      "cell_type": "code",
      "source": [
        "targets = data[[\"SIZE\", \"PDI\"]]\n",
        "numerical_columns = [\"TLP\", \"ESM\", \"HSPC\", \"CHOL\", \"PEG\", \"TFR \", \"FRR\", \"FR-O\", \"FR-W\"]\n",
        "features = data[numerical_columns]\n",
        "X_train, X_test, y_train, y_test = train_test_split(targets, features, test_size=0.2, random_state=42)\n",
        "\n",
        "inverse_model = MultiOutputRegressor(XGBRegressor(n_estimators=100, random_state=42))\n",
        "inverse_model.fit(X_train, y_train)\n",
        "\n",
        "pickle_file_path = \"inverse_xgboost_model.pkl\"\n",
        "with open(pickle_file_path, \"wb\") as file:\n",
        "    pickle.dump(inverse_model, file)\n",
        "\n",
        "print(f\"Inverse model saved to {pickle_file_path}\")\n"
      ],
      "metadata": {
        "colab": {
          "base_uri": "https://localhost:8080/"
        },
        "id": "M4llf4t9bTVb",
        "outputId": "b288ab21-94b0-4d34-ac63-1c0af57a2d00"
      },
      "execution_count": 11,
      "outputs": [
        {
          "output_type": "stream",
          "name": "stdout",
          "text": [
            "Inverse model saved to inverse_xgboost_model.pkl\n"
          ]
        }
      ]
    }
  ]
}