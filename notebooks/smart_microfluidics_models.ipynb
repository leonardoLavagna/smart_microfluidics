{
  "nbformat": 4,
  "nbformat_minor": 0,
  "metadata": {
    "colab": {
      "provenance": []
    },
    "kernelspec": {
      "name": "python3",
      "display_name": "Python 3"
    },
    "language_info": {
      "name": "python"
    }
  },
  "cells": [
    {
      "cell_type": "markdown",
      "source": [
        "# notebooks.smart_microfluidics_models"
      ],
      "metadata": {
        "id": "f31aaAvcYhfi"
      }
    },
    {
      "cell_type": "markdown",
      "source": [
        "## Setup"
      ],
      "metadata": {
        "id": "Pdbb9F3ImItH"
      }
    },
    {
      "cell_type": "code",
      "source": [
        "!git clone https://github.com/leonardoLavagna/smart_microfluidics"
      ],
      "metadata": {
        "colab": {
          "base_uri": "https://localhost:8080/"
        },
        "id": "lF07kdcamIBA",
        "outputId": "4297e30d-54e0-4841-c03a-b5d36d51306d"
      },
      "execution_count": 1,
      "outputs": [
        {
          "output_type": "stream",
          "name": "stdout",
          "text": [
            "Cloning into 'smart_microfluidics'...\n",
            "remote: Enumerating objects: 353, done.\u001b[K\n",
            "remote: Counting objects: 100% (45/45), done.\u001b[K\n",
            "remote: Compressing objects: 100% (44/44), done.\u001b[K\n",
            "remote: Total 353 (delta 17), reused 0 (delta 0), pack-reused 308 (from 2)\u001b[K\n",
            "Receiving objects: 100% (353/353), 2.50 MiB | 8.86 MiB/s, done.\n",
            "Resolving deltas: 100% (203/203), done.\n"
          ]
        }
      ]
    },
    {
      "cell_type": "code",
      "source": [
        "import pandas as pd\n",
        "from sklearn.model_selection import train_test_split\n",
        "from sklearn.ensemble import RandomForestRegressor\n",
        "from xgboost import XGBRegressor\n",
        "from sklearn.multioutput import MultiOutputRegressor\n",
        "from sklearn.preprocessing import OneHotEncoder\n",
        "from sklearn.compose import ColumnTransformer\n",
        "from sklearn.pipeline import Pipeline\n",
        "import pickle\n",
        "import numpy as np"
      ],
      "metadata": {
        "id": "upTpYixWVOPa"
      },
      "execution_count": 2,
      "outputs": []
    },
    {
      "cell_type": "markdown",
      "source": [
        "## Get Data"
      ],
      "metadata": {
        "id": "7ZqQTYnKmNSA"
      }
    },
    {
      "cell_type": "code",
      "source": [
        "file_path = \"smart_microfluidics/data/cleaned_data.csv\"\n",
        "data = pd.read_csv(file_path, encoding=\"latin1\")"
      ],
      "metadata": {
        "id": "x8hc0_fRmO5-"
      },
      "execution_count": 3,
      "outputs": []
    },
    {
      "cell_type": "markdown",
      "source": [
        "## Binary classifier for output"
      ],
      "metadata": {
        "id": "RCu98f_bmqFQ"
      }
    },
    {
      "cell_type": "code",
      "source": [
        "file_path = \"smart_microfluidics/data/cleaned_data.csv\"\n",
        "yes_data = data[data[\"OUTPUT\"] == 1]"
      ],
      "metadata": {
        "id": "tPHEantgmptL"
      },
      "execution_count": 4,
      "outputs": []
    },
    {
      "cell_type": "markdown",
      "source": [
        "## Random forest regressor"
      ],
      "metadata": {
        "id": "2oFQTTf-YqFR"
      }
    },
    {
      "cell_type": "code",
      "execution_count": 5,
      "metadata": {
        "colab": {
          "base_uri": "https://localhost:8080/"
        },
        "id": "qzSh6EQ3T_GK",
        "outputId": "a389f038-4560-4bc5-8837-ab14423012a6"
      },
      "outputs": [
        {
          "output_type": "stream",
          "name": "stdout",
          "text": [
            "Model saved to random_forest_model.pkl\n"
          ]
        }
      ],
      "source": [
        "features = yes_data.drop(columns=[\"SIZE\", \"PDI\", \"OUTPUT\"])\n",
        "targets = yes_data[[\"SIZE\", \"PDI\"]]\n",
        "categorical_columns = features.select_dtypes(include=[\"object\"]).columns\n",
        "numerical_columns = features.select_dtypes(include=[\"float64\", \"int64\"]).columns\n",
        "\n",
        "preprocessor = ColumnTransformer(transformers=[(\"cat\", OneHotEncoder(drop=\"first\"), categorical_columns),],remainder=\"passthrough\")\n",
        "X_train, X_test, y_train, y_test = train_test_split(features, targets, test_size=0.2, random_state=42)\n",
        "model = Pipeline(steps=[(\"preprocessor\", preprocessor), (\"regressor\", RandomForestRegressor(n_estimators=100, random_state=42))])\n",
        "model.fit(X_train, y_train)\n",
        "pickle_file_path = \"random_forest_model.pkl\"\n",
        "with open(pickle_file_path, \"wb\") as file:\n",
        "    pickle.dump(model, file)\n",
        "\n",
        "print(f\"Model saved to {pickle_file_path}\")"
      ]
    },
    {
      "cell_type": "code",
      "source": [
        "with open(\"random_forest_model.pkl\", \"rb\") as file:\n",
        "    loaded_model = pickle.load(file)\n",
        "input_data = pd.DataFrame({\n",
        "    \"ML\": [\"HSPC\"],\n",
        "    \"CHIP\": [\"Micromixer\"],\n",
        "    \"TLP\": [5.0],\n",
        "    \"ESM\": [0.0],\n",
        "    \"HSPC\": [3.75],\n",
        "    \"CHOL\": [0.0],\n",
        "    \"PEG\": [1.25],\n",
        "    \"TFR \": [1.0],\n",
        "    \"FRR\": [3.0],\n",
        "    \"BUFFER\": [\"PBS\"],\n",
        "    \"OUTPUT\": [1]\n",
        "})\n",
        "\n",
        "predictions = loaded_model.predict(input_data)\n",
        "print(\"Predicted SIZE and PDI:\", predictions)\n"
      ],
      "metadata": {
        "colab": {
          "base_uri": "https://localhost:8080/"
        },
        "id": "t49eMaUAVWz7",
        "outputId": "7870c2ac-9b3f-42f6-ac80-1c17d8f2ff2c"
      },
      "execution_count": 6,
      "outputs": [
        {
          "output_type": "stream",
          "name": "stdout",
          "text": [
            "Predicted SIZE and PDI: [[115.56333333   0.34353444]]\n"
          ]
        }
      ]
    },
    {
      "cell_type": "markdown",
      "source": [
        "## XGBoost"
      ],
      "metadata": {
        "id": "aI4vX9Fvaz70"
      }
    },
    {
      "cell_type": "code",
      "source": [
        "features = yes_data.drop(columns=[\"SIZE\", \"PDI\"])\n",
        "targets = yes_data[[\"SIZE\", \"PDI\"]]\n",
        "categorical_columns = features.select_dtypes(include=[\"object\"]).columns\n",
        "numerical_columns = features.select_dtypes(include=[\"float64\", \"int64\"]).columns\n",
        "\n",
        "preprocessor = ColumnTransformer(transformers=[(\"cat\", OneHotEncoder(drop=\"first\"), categorical_columns),],remainder=\"passthrough\")\n",
        "X_train, X_test, y_train, y_test = train_test_split(features, targets, test_size=0.2, random_state=42)\n",
        "xgboost_model = Pipeline(steps=[(\"preprocessor\", preprocessor), (\"regressor\", MultiOutputRegressor(XGBRegressor(n_estimators=100, random_state=42)))])\n",
        "\n",
        "xgboost_model.fit(X_train, y_train)\n",
        "pickle_file_path = \"xgboost_model.pkl\"\n",
        "with open(pickle_file_path, \"wb\") as file:\n",
        "    pickle.dump(xgboost_model, file)\n",
        "print(f\"Model saved to {pickle_file_path}\")"
      ],
      "metadata": {
        "colab": {
          "base_uri": "https://localhost:8080/"
        },
        "id": "fOKOoljCazu6",
        "outputId": "cfada579-a8f7-4a34-be86-70cb4cff0577"
      },
      "execution_count": 7,
      "outputs": [
        {
          "output_type": "stream",
          "name": "stdout",
          "text": [
            "Model saved to xgboost_model.pkl\n"
          ]
        }
      ]
    },
    {
      "cell_type": "code",
      "source": [
        "with open(\"xgboost_model.pkl\", \"rb\") as file:\n",
        "    loaded_model = pickle.load(file)\n",
        "input_data = pd.DataFrame({\n",
        "    \"ML\": [\"HSPC\"],\n",
        "    \"CHIP\": [\"Micromixer\"],\n",
        "    \"TLP\": [5.0],\n",
        "    \"ESM\": [0.0],\n",
        "    \"HSPC\": [3.75],\n",
        "    \"CHOL\": [0.0],\n",
        "    \"PEG\": [1.25],\n",
        "    \"TFR \": [1.0],\n",
        "    \"FRR\": [3.0],\n",
        "    \"BUFFER\": [\"PBS\"],\n",
        "    \"OUTPUT\": [1]\n",
        "})\n",
        "\n",
        "predictions = loaded_model.predict(input_data)\n",
        "print(\"Predicted SIZE and PDI:\", predictions)\n"
      ],
      "metadata": {
        "colab": {
          "base_uri": "https://localhost:8080/"
        },
        "id": "bowgsKn1mUsC",
        "outputId": "420974f8-c761-40f2-a790-6eb0361af5f7"
      },
      "execution_count": 8,
      "outputs": [
        {
          "output_type": "stream",
          "name": "stdout",
          "text": [
            "Predicted SIZE and PDI: [[118.00202     0.3360173]]\n"
          ]
        }
      ]
    },
    {
      "cell_type": "markdown",
      "source": [
        "## Inverse problem"
      ],
      "metadata": {
        "id": "RcLRAixHdrxO"
      }
    },
    {
      "cell_type": "code",
      "source": [
        "targets = yes_data[[\"SIZE\", \"PDI\"]]\n",
        "numerical_columns = [\"ESM\", \"HSPC\", \"CHOL\", \"PEG\", \"TFR \", \"FRR\"]\n",
        "features = yes_data[numerical_columns]\n",
        "X_train, X_test, y_train, y_test = train_test_split(targets, features, test_size=0.2, random_state=42)\n",
        "\n",
        "inverse_model = MultiOutputRegressor(XGBRegressor(n_estimators=100, random_state=42))\n",
        "inverse_model.fit(X_train, y_train)\n",
        "\n",
        "pickle_file_path = \"inverse_xgboost_model.pkl\"\n",
        "with open(pickle_file_path, \"wb\") as file:\n",
        "    pickle.dump(inverse_model, file)\n",
        "\n",
        "print(f\"Inverse model saved to {pickle_file_path}\")\n"
      ],
      "metadata": {
        "colab": {
          "base_uri": "https://localhost:8080/"
        },
        "id": "M4llf4t9bTVb",
        "outputId": "77c10e9e-9943-4f7d-8540-01ad24cf1f35"
      },
      "execution_count": 9,
      "outputs": [
        {
          "output_type": "stream",
          "name": "stdout",
          "text": [
            "Inverse model saved to inverse_xgboost_model.pkl\n"
          ]
        }
      ]
    },
    {
      "cell_type": "code",
      "source": [
        "with open(\"inverse_xgboost_model.pkl\", \"rb\") as file:\n",
        "    inverse_model = pickle.load(file)\n",
        "input_data = pd.DataFrame({\"SIZE\": [118.0], \"PDI\": [0.33]})\n",
        "\n",
        "predictions = inverse_model.predict(input_data)\n",
        "predictions = np.abs(predictions)\n",
        "predictions = np.where(predictions < 0.5, 0, predictions)\n",
        "print(\"Predicted values for ESM, HSPC, CHOL, PEG, TFR, and FRR:\", predictions)"
      ],
      "metadata": {
        "colab": {
          "base_uri": "https://localhost:8080/"
        },
        "id": "UrwGWQ-tojAy",
        "outputId": "9deaad51-7ecc-4b89-c467-6c382f7ea4a4"
      },
      "execution_count": 10,
      "outputs": [
        {
          "output_type": "stream",
          "name": "stdout",
          "text": [
            "Predicted values for ESM, HSPC, CHOL, PEG, TFR, and FRR: [[0.        3.7620564 0.        1.2572409 0.9628239 3.0061107]]\n"
          ]
        }
      ]
    }
  ]
}