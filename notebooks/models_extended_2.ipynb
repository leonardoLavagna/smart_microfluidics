{
  "nbformat": 4,
  "nbformat_minor": 0,
  "metadata": {
    "colab": {
      "provenance": []
    },
    "kernelspec": {
      "name": "python3",
      "display_name": "Python 3"
    },
    "language_info": {
      "name": "python"
    }
  },
  "cells": [
    {
      "cell_type": "markdown",
      "source": [
        "#notebooks.models_extended_2"
      ],
      "metadata": {
        "id": "DtSOPOEj0QrQ"
      }
    },
    {
      "cell_type": "markdown",
      "source": [
        "## Setup"
      ],
      "metadata": {
        "id": "1m-Muw-JNVHn"
      }
    },
    {
      "cell_type": "code",
      "source": [
        "import os\n",
        "os.chdir(\"smart_microfluidics\")"
      ],
      "metadata": {
        "id": "em3T6hGx0YvF"
      },
      "execution_count": 1,
      "outputs": []
    },
    {
      "cell_type": "code",
      "source": [
        "import pandas as pd\n",
        "import numpy as np\n",
        "from matplotlib import pyplot as plt\n",
        "from sklearn.model_selection import train_test_split, GridSearchCV, RandomizedSearchCV\n",
        "from sklearn.preprocessing import StandardScaler\n",
        "from sklearn.metrics import mean_squared_error, r2_score, mean_absolute_error\n",
        "from xgboost import XGBRegressor\n",
        "from sklearn.ensemble import RandomForestRegressor\n",
        "from sklearn.neural_network import MLPRegressor"
      ],
      "metadata": {
        "id": "2g8Er7W81xAN"
      },
      "execution_count": 2,
      "outputs": []
    },
    {
      "cell_type": "markdown",
      "source": [
        "## Data"
      ],
      "metadata": {
        "id": "PlTNXnJKNWwB"
      }
    },
    {
      "cell_type": "code",
      "source": [
        "df = pd.read_csv('data/cleaned_data.csv')\n",
        "df = df[df[\"OUTPUT\"] == 1]\n",
        "df = df.drop([\"OUTPUT\"], axis=1)\n",
        "df = df[df[\"CHIP\"] == \"Micromixer\"]\n",
        "df = df.drop([\"CHIP\"], axis=1)\n",
        "df = df[df[\"ML\"] == \"ESM\"]\n",
        "df = df.drop([\"ML\"], axis=1)\n",
        "df = df.drop(df.select_dtypes(include=['object', 'category']).columns, axis=1)"
      ],
      "metadata": {
        "id": "V9o9mgJt0f07"
      },
      "execution_count": 3,
      "outputs": []
    },
    {
      "cell_type": "code",
      "source": [
        "X = df.drop(columns=[\"SIZE\", \"PDI\"])\n",
        "y_size = df[\"SIZE\"]\n",
        "y_pdi = df[\"PDI\"]"
      ],
      "metadata": {
        "id": "Ry1MbkDO2Ba-"
      },
      "execution_count": 4,
      "outputs": []
    },
    {
      "cell_type": "markdown",
      "source": [
        "## XGBoost for size predictions"
      ],
      "metadata": {
        "id": "ebJJEMyZNadQ"
      }
    },
    {
      "cell_type": "code",
      "source": [
        "X_train, X_test, y_train_size, y_test_size = train_test_split(X, y_size, test_size=0.2, random_state=42)\n",
        "scaler = StandardScaler()\n",
        "X_train_scaled = scaler.fit_transform(X_train)\n",
        "X_test_scaled = scaler.transform(X_test)\n",
        "\n",
        "xgb_model = XGBRegressor(random_state=42)\n",
        "\n",
        "param_grid_xgb = {\n",
        "    'n_estimators': [100, 200, 300, 400, 500],\n",
        "    'learning_rate': [0.01, 0.05, 0.1, 0.2],\n",
        "    'max_depth': [3, 5, 7, 9],\n",
        "    'min_child_weight': [1, 3, 5],\n",
        "    'subsample': [0.7, 0.8, 0.9, 1.0],\n",
        "    'colsample_bytree': [0.6, 0.8, 1.0],\n",
        "    'gamma': [0, 0.1, 0.2],\n",
        "    'lambda': [0, 0.1, 1]\n",
        "}\n",
        "\n",
        "random_search_xgb = RandomizedSearchCV(xgb_model, param_distributions=param_grid_xgb, n_iter=50, scoring='neg_mean_squared_error', cv=5, random_state=42)\n",
        "random_search_xgb.fit(X_train_scaled, y_train_size)\n",
        "\n",
        "\n",
        "best_xgb_model = random_search_xgb.best_estimator_\n",
        "y_pred_xgb_size = best_xgb_model.predict(X_test_scaled)\n",
        "r2_xgb = r2_score(y_test_size, y_pred_xgb_size)\n",
        "mse_xgb = mean_squared_error(y_test_size, y_pred_xgb_size)\n",
        "mae_xgb = mean_absolute_error(y_test_size, y_pred_xgb_size)\n",
        "\n",
        "print(\"Optimized XGBoost Model for SIZE Evaluation:\")\n",
        "print(f\"Best Parameters: {random_search_xgb.best_params_}\")\n",
        "print(f\"R-squared: {r2_xgb}\")\n",
        "print(f\"Mean Squared Error: {mse_xgb}\")\n",
        "print(f\"Mean Absolute Error: {mae_xgb}\")"
      ],
      "metadata": {
        "colab": {
          "base_uri": "https://localhost:8080/"
        },
        "id": "S_1Kkolr1Moy",
        "outputId": "a93aed77-3e2c-484b-b3d1-982230ed5cd7"
      },
      "execution_count": 5,
      "outputs": [
        {
          "output_type": "stream",
          "name": "stdout",
          "text": [
            "Optimized XGBoost Model for SIZE Evaluation:\n",
            "Best Parameters: {'subsample': 0.7, 'n_estimators': 200, 'min_child_weight': 1, 'max_depth': 3, 'learning_rate': 0.2, 'lambda': 1, 'gamma': 0, 'colsample_bytree': 0.8}\n",
            "R-squared: 0.8289789823207528\n",
            "Mean Squared Error: 463.42585081807505\n",
            "Mean Absolute Error: 13.469367980957031\n"
          ]
        }
      ]
    },
    {
      "cell_type": "markdown",
      "source": [
        "## XGBoost for pdi predictions"
      ],
      "metadata": {
        "id": "7OPlYF-INtPG"
      }
    },
    {
      "cell_type": "code",
      "source": [
        "X_train, X_test, y_train_pdi, y_test_pdi = train_test_split(X, y_pdi, test_size=0.2, random_state=42)\n",
        "scaler = StandardScaler()\n",
        "X_train_scaled = scaler.fit_transform(X_train)\n",
        "X_test_scaled = scaler.transform(X_test)\n",
        "\n",
        "xgb_model = XGBRegressor(random_state=42)\n",
        "\n",
        "param_grid_xgb = {\n",
        "    'n_estimators': [100, 200, 300, 400, 500],\n",
        "    'learning_rate': [0.01, 0.05, 0.1, 0.2],\n",
        "    'max_depth': [3, 5, 7, 9],\n",
        "    'min_child_weight': [1, 3, 5],\n",
        "    'subsample': [0.7, 0.8, 0.9, 1.0],\n",
        "    'colsample_bytree': [0.6, 0.8, 1.0],\n",
        "    'gamma': [0, 0.1, 0.2],\n",
        "    'lambda': [0, 0.1, 1]\n",
        "}\n",
        "\n",
        "random_search_xgb = RandomizedSearchCV(xgb_model, param_distributions=param_grid_xgb, n_iter=50, scoring='neg_mean_squared_error', cv=5, random_state=42)\n",
        "random_search_xgb.fit(X_train_scaled, y_train_pdi)\n",
        "\n",
        "best_xgb_model = random_search_xgb.best_estimator_\n",
        "y_pred_xgb_pdi = best_xgb_model.predict(X_test_scaled)\n",
        "r2_xgb = r2_score(y_test_pdi, y_pred_xgb_pdi)\n",
        "mse_xgb = mean_squared_error(y_test_pdi, y_pred_xgb_pdi)\n",
        "mae_xgb = mean_absolute_error(y_test_pdi, y_pred_xgb_pdi)\n",
        "\n",
        "print(\"Optimized XGBoost Model for PDI Evaluation:\")\n",
        "print(f\"Best Parameters: {random_search_xgb.best_params_}\")\n",
        "print(f\"R-squared: {r2_xgb}\")\n",
        "print(f\"Mean Squared Error: {mse_xgb}\")\n",
        "print(f\"Mean Absolute Error: {mae_xgb}\")"
      ],
      "metadata": {
        "colab": {
          "base_uri": "https://localhost:8080/"
        },
        "id": "TtdOnsCt1m4_",
        "outputId": "7f55c841-01b7-41f8-895b-80b590a7918f"
      },
      "execution_count": 6,
      "outputs": [
        {
          "output_type": "stream",
          "name": "stdout",
          "text": [
            "Optimized XGBoost Model for PDI Evaluation:\n",
            "Best Parameters: {'subsample': 1.0, 'n_estimators': 300, 'min_child_weight': 1, 'max_depth': 9, 'learning_rate': 0.01, 'lambda': 0.1, 'gamma': 0, 'colsample_bytree': 1.0}\n",
            "R-squared: 0.34588894116461155\n",
            "Mean Squared Error: 0.003431941253060487\n",
            "Mean Absolute Error: 0.03838176091086297\n"
          ]
        }
      ]
    },
    {
      "cell_type": "markdown",
      "source": [
        "## Random forest regressor predictions for pdi"
      ],
      "metadata": {
        "id": "iJQOIOlOP32H"
      }
    },
    {
      "cell_type": "code",
      "source": [
        "X_train, X_test, y_train_pdi, y_test_pdi = train_test_split(X, y_pdi, test_size=0.2, random_state=42)\n",
        "scaler = StandardScaler()\n",
        "X_train_scaled = scaler.fit_transform(X_train)\n",
        "X_test_scaled = scaler.transform(X_test)\n",
        "\n",
        "rf_model = RandomForestRegressor(random_state=42)\n",
        "\n",
        "param_grid_rf = {\n",
        "    'n_estimators': [100, 200, 300, 400, 500],\n",
        "    'max_depth': [None, 10, 20, 30, 40, 50],\n",
        "    'min_samples_split': [2, 5, 10],\n",
        "    'min_samples_leaf': [1, 2, 4],\n",
        "    'max_features': ['sqrt', 'log2', None],\n",
        "    'bootstrap': [True, False]\n",
        "}\n",
        "\n",
        "random_search_rf = RandomizedSearchCV(rf_model, param_distributions=param_grid_rf,\n",
        "                                      n_iter=50, scoring='neg_mean_squared_error',\n",
        "                                      cv=5, random_state=42, n_jobs=-1)\n",
        "random_search_rf.fit(X_train_scaled, y_train_pdi)\n",
        "\n",
        "\n",
        "best_rf_model = random_search_rf.best_estimator_\n",
        "y_pred_rf_pdi = best_rf_model.predict(X_test_scaled)\n",
        "\n",
        "# Evaluate the model\n",
        "r2_rf = r2_score(y_test_pdi, y_pred_rf_pdi)\n",
        "mse_rf = mean_squared_error(y_test_pdi, y_pred_rf_pdi)\n",
        "mae_rf = mean_absolute_error(y_test_pdi, y_pred_rf_pdi)\n",
        "\n",
        "# Print evaluation metrics\n",
        "print(\"Optimized RandomForestRegressor Model for SIZE Evaluation:\")\n",
        "print(f\"Best Parameters: {random_search_rf.best_params_}\")\n",
        "print(f\"R-squared: {r2_rf}\")\n",
        "print(f\"Mean Squared Error: {mse_rf}\")\n",
        "print(f\"Mean Absolute Error: {mae_rf}\")"
      ],
      "metadata": {
        "colab": {
          "base_uri": "https://localhost:8080/"
        },
        "id": "63VCsJMuP7Sd",
        "outputId": "4d8958c0-ed56-48ed-9c05-315bf231962d"
      },
      "execution_count": 7,
      "outputs": [
        {
          "output_type": "stream",
          "name": "stdout",
          "text": [
            "Optimized RandomForestRegressor Model for SIZE Evaluation:\n",
            "Best Parameters: {'n_estimators': 400, 'min_samples_split': 5, 'min_samples_leaf': 1, 'max_features': 'sqrt', 'max_depth': None, 'bootstrap': False}\n",
            "R-squared: 0.5383643771732456\n",
            "Mean Squared Error: 0.0024220754510437216\n",
            "Mean Absolute Error: 0.03355048611111106\n"
          ]
        }
      ]
    }
  ]
}