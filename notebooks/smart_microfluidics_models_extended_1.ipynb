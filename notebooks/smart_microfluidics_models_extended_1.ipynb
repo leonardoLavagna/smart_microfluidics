{
  "nbformat": 4,
  "nbformat_minor": 0,
  "metadata": {
    "colab": {
      "provenance": []
    },
    "kernelspec": {
      "name": "python3",
      "display_name": "Python 3"
    },
    "language_info": {
      "name": "python"
    }
  },
  "cells": [
    {
      "cell_type": "markdown",
      "source": [
        "# notebooks.smart_microfluidics_models_extended"
      ],
      "metadata": {
        "id": "f31aaAvcYhfi"
      }
    },
    {
      "cell_type": "markdown",
      "source": [
        "## Setup"
      ],
      "metadata": {
        "id": "Pdbb9F3ImItH"
      }
    },
    {
      "cell_type": "code",
      "source": [
        "!git clone https://github.com/leonardoLavagna/smart_microfluidics"
      ],
      "metadata": {
        "colab": {
          "base_uri": "https://localhost:8080/"
        },
        "id": "lF07kdcamIBA",
        "outputId": "a5c3fe21-d3ff-4699-e209-b8f0b078ea84"
      },
      "execution_count": 1,
      "outputs": [
        {
          "output_type": "stream",
          "name": "stdout",
          "text": [
            "Cloning into 'smart_microfluidics'...\n",
            "remote: Enumerating objects: 865, done.\u001b[K\n",
            "remote: Counting objects: 100% (121/121), done.\u001b[K\n",
            "remote: Compressing objects: 100% (105/105), done.\u001b[K\n",
            "remote: Total 865 (delta 71), reused 15 (delta 15), pack-reused 744 (from 3)\u001b[K\n",
            "Receiving objects: 100% (865/865), 4.06 MiB | 9.13 MiB/s, done.\n",
            "Resolving deltas: 100% (519/519), done.\n"
          ]
        }
      ]
    },
    {
      "cell_type": "code",
      "source": [
        "import pandas as pd\n",
        "from sklearn.model_selection import train_test_split\n",
        "from sklearn.ensemble import RandomForestRegressor\n",
        "from xgboost import XGBRegressor\n",
        "from sklearn.multioutput import MultiOutputRegressor\n",
        "from sklearn.preprocessing import OneHotEncoder\n",
        "from sklearn.compose import ColumnTransformer\n",
        "from sklearn.pipeline import Pipeline\n",
        "import pickle\n",
        "import numpy as np"
      ],
      "metadata": {
        "id": "upTpYixWVOPa"
      },
      "execution_count": 2,
      "outputs": []
    },
    {
      "cell_type": "markdown",
      "source": [
        "## Get Data"
      ],
      "metadata": {
        "id": "7ZqQTYnKmNSA"
      }
    },
    {
      "cell_type": "code",
      "source": [
        "file_path = \"smart_microfluidics/data/extended_data.csv\"\n",
        "data = pd.read_csv(file_path, encoding=\"latin-1\")\n",
        "yes_data = data[data[\"OUTPUT\"] == 1]"
      ],
      "metadata": {
        "id": "5AaTWdn-kkAZ"
      },
      "execution_count": 7,
      "outputs": []
    },
    {
      "cell_type": "markdown",
      "source": [
        "## Random forest regressor"
      ],
      "metadata": {
        "id": "2oFQTTf-YqFR"
      }
    },
    {
      "cell_type": "code",
      "execution_count": 8,
      "metadata": {
        "colab": {
          "base_uri": "https://localhost:8080/"
        },
        "id": "qzSh6EQ3T_GK",
        "outputId": "727e437d-28f9-4389-b3de-f5cf3318c3a3"
      },
      "outputs": [
        {
          "output_type": "stream",
          "name": "stdout",
          "text": [
            "Model saved to random_forest_model_extended_1.pkl\n"
          ]
        }
      ],
      "source": [
        "features = yes_data.drop(columns=[\"ID\", \"SIZE\", \"PDI\", \"OUTPUT\"])\n",
        "targets = yes_data[[\"SIZE\", \"PDI\"]]\n",
        "categorical_columns = features.select_dtypes(include=[\"object\"]).columns\n",
        "numerical_columns = features.select_dtypes(include=[\"float64\", \"int64\"]).columns\n",
        "\n",
        "preprocessor = ColumnTransformer(transformers=[(\"cat\", OneHotEncoder(drop=\"first\"), categorical_columns),],remainder=\"passthrough\")\n",
        "X_train, X_test, y_train, y_test = train_test_split(features, targets, test_size=0.2, random_state=42)\n",
        "model = Pipeline(steps=[(\"preprocessor\", preprocessor), (\"regressor\", RandomForestRegressor(n_estimators=100, random_state=42))])\n",
        "model.fit(X_train, y_train)\n",
        "pickle_file_path = \"random_forest_model_extended_1.pkl\"\n",
        "with open(pickle_file_path, \"wb\") as file:\n",
        "    pickle.dump(model, file)\n",
        "\n",
        "print(f\"Model saved to {pickle_file_path}\")"
      ]
    },
    {
      "cell_type": "code",
      "source": [
        "with open(\"random_forest_model_extended_1.pkl\", \"rb\") as file:\n",
        "    loaded_model = pickle.load(file)\n",
        "input_data = pd.DataFrame({\n",
        "    \"ML\": [\"HSPC\"],\n",
        "    \"CHIP\": [\"Micromixer\"],\n",
        "    \"TLP\": [5.0],\n",
        "    \"ESM\": [0.0],\n",
        "    \"HSPC\": [3.75],\n",
        "    \"CHOL\": [0.0],\n",
        "    \"PEG\": [1.25],\n",
        "    \"TFR \": [1.0],\n",
        "    \"FRR\": [3.0],\n",
        "    \"BUFFER\": [\"PBS\"],\n",
        "    \"OUTPUT\": [1]\n",
        "})\n",
        "\n",
        "predictions = loaded_model.predict(input_data)\n",
        "print(\"Predicted SIZE and PDI:\", predictions)\n"
      ],
      "metadata": {
        "colab": {
          "base_uri": "https://localhost:8080/"
        },
        "id": "t49eMaUAVWz7",
        "outputId": "1445a91f-0d25-4e9e-c960-df0524c6f008"
      },
      "execution_count": 9,
      "outputs": [
        {
          "output_type": "stream",
          "name": "stdout",
          "text": [
            "Predicted SIZE and PDI: [[120.03      0.35539]]\n"
          ]
        }
      ]
    },
    {
      "cell_type": "markdown",
      "source": [
        "## XGBoost"
      ],
      "metadata": {
        "id": "aI4vX9Fvaz70"
      }
    },
    {
      "cell_type": "code",
      "source": [
        "features = yes_data.drop(columns=[\"ID\", \"SIZE\", \"PDI\"])\n",
        "targets = yes_data[[\"SIZE\", \"PDI\"]]\n",
        "categorical_columns = features.select_dtypes(include=[\"object\"]).columns\n",
        "numerical_columns = features.select_dtypes(include=[\"float64\", \"int64\"]).columns\n",
        "\n",
        "preprocessor = ColumnTransformer(transformers=[(\"cat\", OneHotEncoder(drop=\"first\"), categorical_columns),],remainder=\"passthrough\")\n",
        "X_train, X_test, y_train, y_test = train_test_split(features, targets, test_size=0.2, random_state=42)\n",
        "xgboost_model = Pipeline(steps=[(\"preprocessor\", preprocessor), (\"regressor\", MultiOutputRegressor(XGBRegressor(n_estimators=100, random_state=42)))])\n",
        "\n",
        "xgboost_model.fit(X_train, y_train)\n",
        "pickle_file_path = \"xgboost_model_extended_1.pkl\"\n",
        "with open(pickle_file_path, \"wb\") as file:\n",
        "    pickle.dump(xgboost_model, file)\n",
        "print(f\"Model saved to {pickle_file_path}\")"
      ],
      "metadata": {
        "colab": {
          "base_uri": "https://localhost:8080/"
        },
        "id": "fOKOoljCazu6",
        "outputId": "a3848f42-d5b7-4a10-a801-cb547a45aa9b"
      },
      "execution_count": 10,
      "outputs": [
        {
          "output_type": "stream",
          "name": "stdout",
          "text": [
            "Model saved to xgboost_model_extended_1.pkl\n"
          ]
        }
      ]
    },
    {
      "cell_type": "code",
      "source": [
        "with open(\"xgboost_model_extended_1.pkl\", \"rb\") as file:\n",
        "    loaded_model = pickle.load(file)\n",
        "input_data = pd.DataFrame({\n",
        "    \"ML\": [\"HSPC\"],\n",
        "    \"CHIP\": [\"Micromixer\"],\n",
        "    \"TLP\": [5.0],\n",
        "    \"ESM\": [0.0],\n",
        "    \"HSPC\": [3.75],\n",
        "    \"CHOL\": [0.0],\n",
        "    \"PEG\": [1.25],\n",
        "    \"TFR \": [1.0],\n",
        "    \"FRR\": [3.0],\n",
        "    \"BUFFER\": [\"PBS\"],\n",
        "    \"OUTPUT\": [1]\n",
        "})\n",
        "\n",
        "predictions = loaded_model.predict(input_data)\n",
        "print(\"Predicted SIZE and PDI:\", predictions)\n"
      ],
      "metadata": {
        "colab": {
          "base_uri": "https://localhost:8080/"
        },
        "id": "bowgsKn1mUsC",
        "outputId": "98101efd-07c8-46a1-8410-69668f6b8956"
      },
      "execution_count": 11,
      "outputs": [
        {
          "output_type": "stream",
          "name": "stdout",
          "text": [
            "Predicted SIZE and PDI: [[118.0047       0.33534396]]\n"
          ]
        }
      ]
    },
    {
      "cell_type": "markdown",
      "source": [
        "## Inverse problem"
      ],
      "metadata": {
        "id": "RcLRAixHdrxO"
      }
    },
    {
      "cell_type": "code",
      "source": [
        "targets = yes_data[[\"SIZE\", \"PDI\"]]\n",
        "numerical_columns = [\"ESM\", \"HSPC\", \"CHOL\", \"PEG\", \"TFR \", \"FRR\"]\n",
        "features = yes_data[numerical_columns]\n",
        "X_train, X_test, y_train, y_test = train_test_split(targets, features, test_size=0.2, random_state=42)\n",
        "\n",
        "inverse_model = MultiOutputRegressor(XGBRegressor(n_estimators=100, random_state=42))\n",
        "inverse_model.fit(X_train, y_train)\n",
        "\n",
        "pickle_file_path = \"inverse_xgboost_model_extended_1.pkl\"\n",
        "with open(pickle_file_path, \"wb\") as file:\n",
        "    pickle.dump(inverse_model, file)\n",
        "\n",
        "print(f\"Inverse model saved to {pickle_file_path}\")\n"
      ],
      "metadata": {
        "colab": {
          "base_uri": "https://localhost:8080/"
        },
        "id": "M4llf4t9bTVb",
        "outputId": "cba9b133-2292-44e6-df70-8c9a4a3d978d"
      },
      "execution_count": 12,
      "outputs": [
        {
          "output_type": "stream",
          "name": "stdout",
          "text": [
            "Inverse model saved to inverse_xgboost_model_extended_1.pkl\n"
          ]
        }
      ]
    },
    {
      "cell_type": "code",
      "source": [
        "with open(\"inverse_xgboost_model_extended_1.pkl\", \"rb\") as file:\n",
        "    inverse_model = pickle.load(file)\n",
        "input_data = pd.DataFrame({\"SIZE\": [118.0], \"PDI\": [0.33]})\n",
        "\n",
        "predictions = inverse_model.predict(input_data)\n",
        "predictions = np.abs(predictions)\n",
        "predictions = np.where(predictions < 0.5, 0, predictions)\n",
        "print(\"Predicted values for ESM, HSPC, CHOL, PEG, TFR, and FRR:\", predictions)"
      ],
      "metadata": {
        "colab": {
          "base_uri": "https://localhost:8080/"
        },
        "id": "UrwGWQ-tojAy",
        "outputId": "6268bb1d-9cab-4c4e-c37d-c91b642abfdb"
      },
      "execution_count": 13,
      "outputs": [
        {
          "output_type": "stream",
          "name": "stdout",
          "text": [
            "Predicted values for ESM, HSPC, CHOL, PEG, TFR, and FRR: [[0.        3.774202  0.        1.249703  0.9808568 3.0403361]]\n"
          ]
        }
      ]
    }
  ]
}