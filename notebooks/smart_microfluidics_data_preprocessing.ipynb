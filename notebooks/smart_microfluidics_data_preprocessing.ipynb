{
  "nbformat": 4,
  "nbformat_minor": 0,
  "metadata": {
    "colab": {
      "provenance": []
    },
    "kernelspec": {
      "name": "python3",
      "display_name": "Python 3"
    },
    "language_info": {
      "name": "python"
    }
  },
  "cells": [
    {
      "cell_type": "markdown",
      "source": [
        "#notebooks.smart_microfluidics_data_preprocessing"
      ],
      "metadata": {
        "id": "9QO9-Bzkp4rS"
      }
    },
    {
      "cell_type": "code",
      "execution_count": 1,
      "metadata": {
        "id": "N8FQOmKRpyfI"
      },
      "outputs": [],
      "source": [
        "import pandas as pd"
      ]
    },
    {
      "cell_type": "code",
      "source": [
        "file_path = \"data.csv\"\n",
        "data = pd.read_csv(file_path, encoding=\"latin1\")"
      ],
      "metadata": {
        "id": "wv4mA_rmp_TC"
      },
      "execution_count": 2,
      "outputs": []
    },
    {
      "cell_type": "code",
      "source": [
        "data = data.drop(columns=['ID', 'FR-O', 'FR-W', 'TLP'])\n",
        "data.OUTPUT = data.OUTPUT.apply(lambda x: 1 if x == \"YES\" else 0)\n",
        "data.BUFFER = data.BUFFER.astype(str).str.strip()\n",
        "data.BUFFER = data.BUFFER.replace({'PBS\\xa0': 'PBS'})\n",
        "data.CHIP = data.CHIP.replace({'Micromixer\\xa0': 'Micromixer'})\n",
        "data.SIZE = data.SIZE.astype(float)\n",
        "\n",
        "for col in data.columns:\n",
        "    if data[col].dtype == 'object':\n",
        "        data[col] = data[col].astype(str)\n",
        "\n",
        "allowed_strings = [\"PBS\", \"MQ\", \"YES\", \"NO\", \"Micromixer\", \"Droplet junction\", \"HSPC\", \"ESM\"]\n",
        "for col in data.columns:\n",
        "    if data[col].dtype == 'object':\n",
        "        for val in data[col].unique():\n",
        "            if val not in allowed_strings:\n",
        "                print(f\"Invalid string found in column '{col}': {val}\")\n",
        "\n",
        "data.to_csv('cleaned_data.csv', index=False)"
      ],
      "metadata": {
        "id": "ZzdU83zSqA7y"
      },
      "execution_count": 3,
      "outputs": []
    }
  ]
}